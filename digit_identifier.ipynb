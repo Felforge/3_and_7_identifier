{
 "cells": [
  {
   "cell_type": "markdown",
   "metadata": {},
   "source": [
    "Setup:"
   ]
  },
  {
   "cell_type": "code",
   "execution_count": null,
   "metadata": {},
   "outputs": [],
   "source": [
    "%pip install -Uqq fastai fastbook graphviz\n",
    "\n",
    "import fastbook\n",
    "from fastai.vision.all import *\n",
    "from fastbook import *\n",
    "\n",
    "fastbook.setup_book()"
   ]
  },
  {
   "cell_type": "markdown",
   "metadata": {},
   "source": [
    "Import MNIST sample that contains samples of all numbers from 0 to 9:"
   ]
  },
  {
   "cell_type": "code",
   "execution_count": null,
   "metadata": {},
   "outputs": [],
   "source": [
    "path = untar_data(URLs.MNIST)\n",
    "Path.BASE_PATH = path\n",
    "(path/'testing').ls()"
   ]
  },
  {
   "cell_type": "markdown",
   "metadata": {},
   "source": [
    "Create dictionary `digits` of all digits in MNIST sample:"
   ]
  },
  {
   "cell_type": "code",
   "execution_count": null,
   "metadata": {},
   "outputs": [],
   "source": [
    "import os\n",
    "\n",
    "dir = os.listdir(path/'training')\n",
    "dir_training = os.listdir(path/'testing')\n",
    "\n",
    "digits = {}\n",
    "for digit in dir:\n",
    "    digits[digit] = (path/'training'/digit).ls().sorted()\n",
    "    \n",
    "digits_training = {}\n",
    "for digit in dir_training:\n",
    "    digits_training[digit] = (path/'testing'/digit).ls().sorted()"
   ]
  },
  {
   "cell_type": "markdown",
   "metadata": {},
   "source": [
    "Create `mnist_loss` function:"
   ]
  },
  {
   "cell_type": "code",
   "execution_count": null,
   "metadata": {},
   "outputs": [],
   "source": [
    "def mnist_loss(predictions, targets):\n",
    "    predictions = predictions.sigmoid()\n",
    "    return torch.where(targets==1, 1-predictions, predictions).mean()"
   ]
  },
  {
   "cell_type": "markdown",
   "metadata": {},
   "source": [
    "Create function to initiate random parameters:"
   ]
  },
  {
   "cell_type": "code",
   "execution_count": null,
   "metadata": {},
   "outputs": [],
   "source": [
    "def init_params(size, std=1.0): \n",
    "    return (torch.randn(size)*std).requires_grad_()"
   ]
  },
  {
   "cell_type": "markdown",
   "metadata": {},
   "source": [
    "Create function `weight_bias_pairs` to create `number_pairs` number of weight-bias pairs as tuples:"
   ]
  },
  {
   "cell_type": "code",
   "execution_count": null,
   "metadata": {},
   "outputs": [],
   "source": [
    "def weight_bias_pairs(number_pairs):\n",
    "    pair_list = []\n",
    "    for i in range(number_pairs, 0, -1):\n",
    "        w = init_params((pow(2, i), pow(2, i-1)))\n",
    "        b = init_params((pow(2, i-1)))\n",
    "        pair_list.append((w, b))\n",
    "    return pair_list"
   ]
  },
  {
   "cell_type": "markdown",
   "metadata": {},
   "source": [
    "Create function `neural_net` for creating a neural_network using the `weight_bias_pairs` function:"
   ]
  },
  {
   "cell_type": "code",
   "execution_count": null,
   "metadata": {},
   "outputs": [],
   "source": [
    "def neural_net(number_pairs):\n",
    "    def neural_net_inner(xb):\n",
    "        wb_pair_list = weight_bias_pairs(number_pairs)\n",
    "        es = xb@wb_pair_list[0][0] + wb_pair_list[0][1]\n",
    "        for wb_pair in wb_pair_list[:1]:\n",
    "            res = res.max(tensor(0.0))\n",
    "            res = res@wb_pair[0] + wb_pair[1]\n",
    "        return res\n",
    "    return neural_net_inner"
   ]
  },
  {
   "cell_type": "markdown",
   "metadata": {},
   "source": [
    "Create function `batch_accuracy` to test validation accuracy of batch:"
   ]
  },
  {
   "cell_type": "code",
   "execution_count": null,
   "metadata": {},
   "outputs": [],
   "source": [
    "def batch_accuracy(xb, yb):\n",
    "    preds = xb.sigmoid()\n",
    "    correct = (preds>0.5) == yb\n",
    "    return correct.float().mean()"
   ]
  },
  {
   "cell_type": "markdown",
   "metadata": {},
   "source": [
    "Create data in `digits` elements into tuples containing stacked tensors and the original images:"
   ]
  },
  {
   "cell_type": "code",
   "execution_count": null,
   "metadata": {},
   "outputs": [],
   "source": [
    "for digit, data in digits.items():\n",
    "    digit_tensor = [tensor(Image.open(o)) for o in data]\n",
    "    stacked_digit = torch.stack(digit_tensor).float()/255\n",
    "    digits[digit] = (stacked_digit, data)"
   ]
  },
  {
   "cell_type": "markdown",
   "metadata": {},
   "source": [
    "Create training set `train_x` containing each digit in the set:"
   ]
  },
  {
   "cell_type": "code",
   "execution_count": null,
   "metadata": {},
   "outputs": [],
   "source": [
    "train_x = torch.cat([i[0] for i in digits.values()]).view(-1, 28*28)"
   ]
  },
  {
   "cell_type": "markdown",
   "metadata": {},
   "source": [
    "Create a training tensor cainting the amounts of each image and show both:"
   ]
  },
  {
   "cell_type": "code",
   "execution_count": null,
   "metadata": {},
   "outputs": [],
   "source": [
    "train_y = tensor([0]*len(digits['0'][1]) + [1]*len(digits['1'][1]) + [2]*len(digits['2'][1]) + [3]*len(digits['3'][1]) + [4]*len(digits['4'][1]) + [5]*len(digits['5'][1]) + [6]*len(digits['6'][1]) + [7]*len(digits['7'][1]) + [8]*len(digits['8'][1]) + [9]*len(digits['9'][1])).unsqueeze(1)\n",
    "train_x.shape,train_y.shape"
   ]
  },
  {
   "cell_type": "markdown",
   "metadata": {},
   "source": [
    "Create dataset of `train_x` and `train_y`:"
   ]
  },
  {
   "cell_type": "code",
   "execution_count": null,
   "metadata": {},
   "outputs": [],
   "source": [
    "dset = list(zip(train_x,train_y))"
   ]
  },
  {
   "cell_type": "markdown",
   "metadata": {},
   "source": [
    "Create a `DataLoader` from `Dataset`:"
   ]
  },
  {
   "cell_type": "code",
   "execution_count": null,
   "metadata": {},
   "outputs": [],
   "source": [
    "dl = DataLoader(dset, batch_size=1024)\n",
    "xb,yb = first(dl)\n",
    "xb.shape,yb.shape"
   ]
  },
  {
   "cell_type": "markdown",
   "metadata": {},
   "source": [
    "Repeat the process for the validation data:"
   ]
  },
  {
   "cell_type": "code",
   "execution_count": null,
   "metadata": {},
   "outputs": [],
   "source": [
    "for digit, data in digits_training.items():\n",
    "    digit_tensor = [tensor(Image.open(o)) for o in data]\n",
    "    stacked_digit = torch.stack(digit_tensor).float()/255\n",
    "    digits_training[digit] = (stacked_digit, data)\n",
    "    \n",
    "valid_x = torch.cat([i[0] for i in digits_training.values()]).view(-1, 28*28)\n",
    "valid_y = tensor([0]*len(digits_training['0'][1]) + [1]*len(digits_training['1'][1]) + [2]*len(digits_training['2'][1]) + [3]*len(digits_training['3'][1]) + [4]*len(digits_training['4'][1]) + [5]*len(digits_training['5'][1]) + [6]*len(digits_training['6'][1]) + [7]*len(digits_training['7'][1]) + [8]*len(digits_training['8'][1]) + [9]*len(digits_training['9'][1])).unsqueeze(1)\n",
    "\n",
    "valid_x,valid_y"
   ]
  },
  {
   "cell_type": "code",
   "execution_count": null,
   "metadata": {},
   "outputs": [],
   "source": [
    "valid_dset = list(zip(valid_x, valid_y))\n",
    "valid_dl = DataLoader(valid_dset, batch_size=1024)"
   ]
  },
  {
   "cell_type": "markdown",
   "metadata": {},
   "source": [
    "Create dataloader of both training and validation data:"
   ]
  },
  {
   "cell_type": "code",
   "execution_count": null,
   "metadata": {},
   "outputs": [],
   "source": [
    "dls = DataLoaders(dl, valid_dl)"
   ]
  },
  {
   "cell_type": "markdown",
   "metadata": {},
   "source": [
    "Create `Learner` function to be trained:"
   ]
  },
  {
   "cell_type": "code",
   "execution_count": null,
   "metadata": {},
   "outputs": [],
   "source": [
    "learn = Learner(dls, neural_net(10), opt_func=SGD, loss_func=mnist_loss, metrics=batch_accuracy)"
   ]
  },
  {
   "cell_type": "markdown",
   "metadata": {},
   "source": [
    "Train the model:"
   ]
  },
  {
   "cell_type": "code",
   "execution_count": null,
   "metadata": {},
   "outputs": [],
   "source": [
    "learn.fit(40, lr=0.1)"
   ]
  }
 ],
 "metadata": {
  "kernelspec": {
   "display_name": "Python 3",
   "language": "python",
   "name": "python3"
  },
  "language_info": {
   "codemirror_mode": {
    "name": "ipython",
    "version": 3
   },
   "file_extension": ".py",
   "mimetype": "text/x-python",
   "name": "python",
   "nbconvert_exporter": "python",
   "pygments_lexer": "ipython3",
   "version": "3.11.6"
  }
 },
 "nbformat": 4,
 "nbformat_minor": 2
}
